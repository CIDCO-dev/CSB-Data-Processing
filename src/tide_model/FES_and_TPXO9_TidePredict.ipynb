{
 "cells": [
  {
   "cell_type": "code",
   "execution_count": 1,
   "id": "72da4a5d",
   "metadata": {},
   "outputs": [
    {
     "name": "stderr",
     "output_type": "stream",
     "text": [
      "C:\\Users\\sibekwut\\Anaconda3\\lib\\site-packages\\pyTMD\\spatial.py:70: UserWarning: GDAL not available\n",
      "  warnings.warn(\"GDAL not available\")\n",
      "C:\\Users\\sibekwut\\Anaconda3\\lib\\site-packages\\pyTMD\\spatial.py:71: UserWarning: Some functions will throw an exception if called\n",
      "  warnings.warn(\"Some functions will throw an exception if called\")\n",
      "<frozen importlib._bootstrap>:228: RuntimeWarning: numpy.ndarray size changed, may indicate binary incompatibility. Expected 16 from C header, got 88 from PyObject\n"
     ]
    }
   ],
   "source": [
    "from __future__ import print_function\n",
    "\n",
    "import os\n",
    "from datetime import datetime, date, time, timezone\n",
    "import numpy as np\n",
    "import matplotlib.pyplot as plt\n",
    "#import ipywidgets as widgets\n",
    "#import IPython.display\n",
    "\n",
    "import pyTMD.io\n",
    "import pyTMD.time\n",
    "import pyTMD.predict\n",
    "import pyTMD.tools\n",
    "import pyTMD.utilities\n",
    "\n",
    "# autoreload\n",
    "%load_ext autoreload\n",
    "%autoreload 2"
   ]
  },
  {
   "cell_type": "code",
   "execution_count": 9,
   "id": "6a1e1741",
   "metadata": {},
   "outputs": [
    {
     "name": "stdout",
     "output_type": "stream",
     "text": [
      "2022-06-02T01:54:36.990000\n",
      "2022-06-02 01:54:36.990000\n"
     ]
    }
   ],
   "source": [
    "# available model list\n",
    "FORMAT = 'netcdf'\n",
    "\n",
    "if FORMAT == 'netcdf':\n",
    "    model = pyTMD.io.model('C:\\\\Users\\\\sibekwut\\\\OneDrive - University of New Brunswick\\\\Fall 2022', format='netcdf',\n",
    "                compressed=False).elevation('TPXO9-atlas-v5')\n",
    "elif FORMAT == 'FES2014':\n",
    "    model = pyTMD.io.model('C:\\\\Users\\\\sibekwut\\\\OneDrive - University of New Brunswick\\\\Fall 2022', format='FES',\n",
    "                compressed=False).elevation('FES2014')\n",
    "\n",
    "\n",
    "D = date(2022, 6, 2)\n",
    "T = time(1, 54, 36,990000)\n",
    "t = datetime.combine(D,T)\n",
    "\n",
    "LAT,LON = (50.13769298831343,-59.272468344843766)\n",
    "\n",
    "dates = np.datetime64(t)\n",
    "print(dates)\n",
    "print(t)"
   ]
  },
  {
   "cell_type": "code",
   "execution_count": 5,
   "id": "3ed9934a",
   "metadata": {},
   "outputs": [
    {
     "name": "stdout",
     "output_type": "stream",
     "text": [
      "Tide_time using datetime:  [11110.07959479]\n",
      "C:\\Users\\sibekwut\\Anaconda3\\lib\\site-packages\\pyTMD\\data\\merged_deltat.data\n",
      "1\n"
     ]
    }
   ],
   "source": [
    "#calculate one minute forecast for every second\n",
    "\n",
    "# For any of the method you're usiing make sure you're using the right epoch\n",
    "\n",
    "#The Calendaar date module of converting time does not accept thee microseconds part of the time\n",
    "\n",
    "#tide_epoch = 1992-01-01T00:00:00\n",
    "\n",
    "#tide_time1 = pyTMD.time.convert_calendar_dates(t.year, t.month, t.day, t.hour, t.minute, t.second, \\\n",
    "                                               #epoch=pyTMD.time._tide_epoch, scale=1.0)\n",
    "\n",
    "#The date time conversion accepts the microseconds aspect of the date\n",
    "tide_time = pyTMD.time.convert_datetime(dates, epoch =pyTMD.time._tide_epoch)/86400\n",
    "\n",
    "\n",
    "#tide_times1 = np.array([tide_time1])\n",
    "tide_times = np.array([tide_time])\n",
    "\n",
    "# number of time points\n",
    "nt = len(tide_times)\n",
    "\n",
    "# delta time (TT - UT1) file\n",
    "delta_file = pyTMD.utilities.get_data_path(['data','merged_deltat.data'])\n",
    "\n",
    "\n",
    "#print('Tide_time using calendar_dates: ', tide_times1)\n",
    "print('Tide_time using datetime: ', tide_times)\n",
    "print(delta_file)\n",
    "print(nt)"
   ]
  },
  {
   "cell_type": "code",
   "execution_count": 10,
   "id": "ea2aa4f7",
   "metadata": {},
   "outputs": [],
   "source": [
    "if model.format == 'netcdf':\n",
    "    constituents = pyTMD.io.ATLAS.read_constants(\n",
    "        model.grid_file, model.model_file,\n",
    "        type=model.type, compressed=model.compressed)\n",
    "    c = constituents.fields\n",
    "    DELTAT = np.zeros_like((nt))\n",
    "\n",
    "elif model.format == 'FES':\n",
    "    constituents = pyTMD.io.FES.read_constants(model.model_file,\n",
    "        type=model.type, version=model.version,\n",
    "        compressed=model.compressed)\n",
    "    c = model.constituents\n",
    "    # interpolate delta times from calendar dates to tide time\n",
    "    DELTAT = pyTMD.time.interpolate_delta_time(delta_file, tide_times)\n",
    "    \n",
    "    print(DELTAT)"
   ]
  },
  {
   "cell_type": "code",
   "execution_count": 11,
   "id": "1aedc632",
   "metadata": {},
   "outputs": [
    {
     "name": "stdout",
     "output_type": "stream",
     "text": [
      "Time=  2022-06-02T01:54:36.990000\n",
      "Longitude=  -59.272468344843766\n",
      "Latitude=  50.13769298831343\n",
      "Tide= [0.3084135378521191]\n"
     ]
    }
   ],
   "source": [
    "# update the tide prediction and plot\n",
    "def update_tide_prediction():\n",
    "    if model.format == 'netcdf':\n",
    "        amp,ph,D = pyTMD.io.ATLAS.interpolate_constants(\n",
    "            np.atleast_1d(LON), np.atleast_1d(LAT),\n",
    "            constituents, type=model.type, scale=model.scale,\n",
    "            method='spline', extrapolate=True)\n",
    "    \n",
    "    elif model.format in 'FES':\n",
    "        amp,ph = pyTMD.io.FES.interpolate_constants(\n",
    "            np.atleast_1d(LON), np.atleast_1d(LAT),\n",
    "            constituents, scale=model.scale,\n",
    "            method='spline', extrapolate=True)\n",
    "        \n",
    "    # calculate complex phase in radians for Euler's\n",
    "    cph = -1j*ph*np.pi/180.0\n",
    "    # calculate constituent oscillation\n",
    "    hc = amp*np.exp(cph)\n",
    "    # predict tidal elevations at time 1 and infer minor corrections\n",
    "    TIDE = pyTMD.predict.drift(tide_times, hc, c,\n",
    "        deltat=DELTAT, corrections=model.format)\n",
    "    MINOR = pyTMD.predict.infer_minor(tide_times, hc, c,\n",
    "        deltat=DELTAT, corrections=model.format)\n",
    "    TIDE.data[:] += MINOR.data[:]\n",
    "    # convert to meters\n",
    "    TIDE.data[:] *= 1\n",
    "    \n",
    "    print(\"Time= \", dates)\n",
    "    print(\"Longitude= \", LON)\n",
    "    print(\"Latitude= \", LAT)\n",
    "    print(\"Tide=\", TIDE)\n",
    "    \n",
    "# run tide prediction at initial location\n",
    "update_tide_prediction()"
   ]
  },
  {
   "cell_type": "code",
   "execution_count": null,
   "id": "4b075310",
   "metadata": {},
   "outputs": [],
   "source": []
  },
  {
   "cell_type": "code",
   "execution_count": null,
   "id": "9b947a89",
   "metadata": {},
   "outputs": [],
   "source": []
  }
 ],
 "metadata": {
  "kernelspec": {
   "display_name": "Python 3 (ipykernel)",
   "language": "python",
   "name": "python3"
  },
  "language_info": {
   "codemirror_mode": {
    "name": "ipython",
    "version": 3
   },
   "file_extension": ".py",
   "mimetype": "text/x-python",
   "name": "python",
   "nbconvert_exporter": "python",
   "pygments_lexer": "ipython3",
   "version": "3.9.13"
  }
 },
 "nbformat": 4,
 "nbformat_minor": 5
}
