{
 "cells": [
  {
   "cell_type": "code",
   "execution_count": null,
   "id": "87e68f46",
   "metadata": {},
   "outputs": [],
   "source": [
    "from __future__ import print_function\n",
    "\n",
    "import os\n",
    "from datetime import datetime, date, time, timezone\n",
    "import numpy as np\n",
    "import matplotlib.pyplot as plt\n",
    "#import ipywidgets as widgets\n",
    "#import IPython.display\n",
    "\n",
    "import pyTMD.io\n",
    "import pyTMD.time\n",
    "import pyTMD.predict\n",
    "import pyTMD.tools\n",
    "import pyTMD.utilities\n",
    "\n",
    "# autoreload\n",
    "%load_ext autoreload\n",
    "%autoreload 2"
   ]
  },
  {
   "cell_type": "code",
   "execution_count": null,
   "id": "8499a03b",
   "metadata": {},
   "outputs": [],
   "source": [
    "model = pyTMD.io.model('C:\\\\Users\\\\sibekwut\\\\OneDrive - University of New Brunswick\\\\Fall 2022', format='FES',\n",
    "            compressed=False).elevation('FES2014')"
   ]
  },
  {
   "cell_type": "code",
   "execution_count": null,
   "id": "4a759d7a",
   "metadata": {},
   "outputs": [],
   "source": [
    "date_str = ['2022-06-02 00:54:37.99', '2022-06-02 00:54:38.99', '2022-06-02 00:54:39.99', '2022-06-02 00:54:40.99', '2022-06-02 00:54:41.99']\n",
    "\n",
    "LAT = [50.1376756306, 50.1377019083, 50.1377282889, 50.1377543472, 50.1377802667]\n",
    "\n",
    "LON = [-60.7275792, -60.7275072222, -60.7274354028, -60.7273631944, -60.7272904444]"
   ]
  },
  {
   "cell_type": "code",
   "execution_count": null,
   "id": "50b434f9",
   "metadata": {},
   "outputs": [],
   "source": [
    "#gnss_contents['Timestamp'].apply(lambda a: datetime.strptime(a, '%Y-%m-%d %H:%M:%S.%f').timestamp())\n",
    "d = list(map(lambda i: np.datetime64(datetime.strptime(date_str[i], '%Y-%m-%d %H:%M:%S.%f')), range(len(date_str))))\n",
    "\n",
    "tide_time = np.array(pyTMD.time.convert_datetime(d, epoch =pyTMD.time._tide_epoch)/86400)\n",
    "\n",
    "# number of time points\n",
    "nt = len(tide_time)\n",
    "\n",
    "# delta time (TT - UT1) file\n",
    "delta_file = pyTMD.utilities.get_data_path(['data','merged_deltat.data'])\n",
    "\n",
    "tide_time"
   ]
  },
  {
   "cell_type": "code",
   "execution_count": null,
   "id": "7c4b1737",
   "metadata": {},
   "outputs": [],
   "source": [
    "if model.format == 'FES':\n",
    "    constituents = pyTMD.io.FES.read_constants(model.model_file,\n",
    "        type=model.type, version=model.version,\n",
    "        compressed=model.compressed)\n",
    "    c = model.constituents\n",
    "    # interpolate delta times from calendar dates to tide time\n",
    "    DELTAT = pyTMD.time.interpolate_delta_time(delta_file, tide_time)\n",
    "    print(DELTAT)"
   ]
  },
  {
   "cell_type": "code",
   "execution_count": null,
   "id": "4ac15717",
   "metadata": {},
   "outputs": [],
   "source": [
    "# update the tide prediction and plot\n",
    "def update_tide_prediction():\n",
    "    if model.format in ('FES'):\n",
    "        amp,ph = pyTMD.io.FES.interpolate_constants(\n",
    "            np.atleast_1d(LON), np.atleast_1d(LAT),\n",
    "            constituents, scale=model.scale,\n",
    "            method='spline', extrapolate=True)\n",
    "    # calculate complex phase in radians for Euler's\n",
    "    cph = -1j*ph*np.pi/180.0\n",
    "    # calculate constituent oscillation\n",
    "    hc = amp*np.exp(cph)\n",
    "                \n",
    "    # predict tidal elevations at time 1 and infer minor corrections\n",
    "    TIDE = pyTMD.predict.drift(tide_time, hc, c,\n",
    "        deltat=DELTAT, corrections=model.format)\n",
    "    MINOR = pyTMD.predict.infer_minor(tide_time, hc, c,\n",
    "        deltat=DELTAT, corrections=model.format)\n",
    "    TIDE.data[:] += MINOR.data[:]\n",
    "    # convert to meters\n",
    "    TIDE.data[:] *= 1\n",
    "    \n",
    "    print('date=', date_str)\n",
    "    print('Lon=', LON)\n",
    "    print('Lat=', LAT)\n",
    "    print('Tide=',TIDE)\n",
    "    \n",
    "    \n",
    "# run tide prediction at initial location\n",
    "update_tide_prediction()"
   ]
  },
  {
   "cell_type": "code",
   "execution_count": null,
   "id": "0ca873c6",
   "metadata": {},
   "outputs": [],
   "source": []
  }
 ],
 "metadata": {
  "kernelspec": {
   "display_name": "Python 3 (ipykernel)",
   "language": "python",
   "name": "python3"
  },
  "language_info": {
   "codemirror_mode": {
    "name": "ipython",
    "version": 3
   },
   "file_extension": ".py",
   "mimetype": "text/x-python",
   "name": "python",
   "nbconvert_exporter": "python",
   "pygments_lexer": "ipython3",
   "version": "3.9.7"
  }
 },
 "nbformat": 4,
 "nbformat_minor": 5
}
